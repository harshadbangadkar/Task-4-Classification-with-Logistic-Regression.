{
  "nbformat": 4,
  "nbformat_minor": 0,
  "metadata": {
    "colab": {
      "provenance": [],
      "gpuType": "V28"
    },
    "kernelspec": {
      "name": "python3",
      "display_name": "Python 3"
    },
    "language_info": {
      "name": "python"
    },
    "accelerator": "TPU"
  },
  "cells": [
    {
      "cell_type": "code",
      "execution_count": 2,
      "metadata": {
        "colab": {
          "base_uri": "https://localhost:8080/",
          "height": 1000
        },
        "id": "8Y2swZ9H8qnn",
        "outputId": "522a063b-01d7-42d8-d524-d4cd0aa90879"
      },
      "outputs": [
        {
          "output_type": "stream",
          "name": "stdout",
          "text": [
            "Confusion Matrix (0.5):\n",
            "[[71  1]\n",
            " [ 2 40]]\n",
            "Precision: 0.976\n",
            "Recall:    0.952\n",
            "ROC-AUC:   0.996\n",
            "\n",
            "Classification Report:\n",
            "              precision    recall  f1-score   support\n",
            "\n",
            "      Benign       0.97      0.99      0.98        72\n",
            "   Malignant       0.98      0.95      0.96        42\n",
            "\n",
            "    accuracy                           0.97       114\n",
            "   macro avg       0.97      0.97      0.97       114\n",
            "weighted avg       0.97      0.97      0.97       114\n",
            "\n"
          ]
        },
        {
          "output_type": "stream",
          "name": "stderr",
          "text": [
            "/usr/local/lib/python3.11/dist-packages/sklearn/impute/_base.py:635: UserWarning: Skipping features without any observed values: ['Unnamed: 32']. At least one non-missing value is needed for imputation with strategy='mean'.\n",
            "  warnings.warn(\n",
            "/usr/local/lib/python3.11/dist-packages/sklearn/impute/_base.py:635: UserWarning: Skipping features without any observed values: ['Unnamed: 32']. At least one non-missing value is needed for imputation with strategy='mean'.\n",
            "  warnings.warn(\n"
          ]
        },
        {
          "output_type": "display_data",
          "data": {
            "text/plain": [
              "<Figure size 640x480 with 1 Axes>"
            ],
            "image/png": "[encoded data removed]"
          },
          "metadata": {}
        },
        {
          "output_type": "stream",
          "name": "stdout",
          "text": [
            "Threshold Tuning Results:\n",
            "\n",
            "Threshold = 0.2\n",
            " Precision: 0.911, Recall: 0.976\n",
            " Confusion Matrix:\n",
            "[[68  4]\n",
            " [ 1 41]]\n",
            "\n",
            "Threshold = 0.5\n",
            " Precision: 0.976, Recall: 0.952\n",
            " Confusion Matrix:\n",
            "[[71  1]\n",
            " [ 2 40]]\n",
            "\n",
            "Threshold = 0.8\n",
            " Precision: 1.000, Recall: 0.857\n",
            " Confusion Matrix:\n",
            "[[72  0]\n",
            " [ 6 36]]\n"
          ]
        }
      ],
      "source": [
        "\n",
        "\n",
        "import pandas as pd\n",
        "import matplotlib.pyplot as plt\n",
        "from sklearn.model_selection import train_test_split\n",
        "from sklearn.preprocessing import StandardScaler\n",
        "from sklearn.impute import SimpleImputer\n",
        "from sklearn.linear_model import LogisticRegression\n",
        "from sklearn.metrics import (\n",
        "    confusion_matrix,\n",
        "    precision_score,\n",
        "    recall_score,\n",
        "    roc_auc_score,\n",
        "    roc_curve,\n",
        "    classification_report\n",
        ")\n",
        "\n",
        "df = pd.read_csv('/content/data.csv')\n",
        "\n",
        "if 'diagnosis' in df.columns:\n",
        "    df = df.dropna(subset=['diagnosis'])\n",
        "\n",
        "if 'id' in df.columns:\n",
        "    df = df.drop(columns=['id'])\n",
        "\n",
        "\n",
        "df['target'] = df['diagnosis'].map({'M': 1, 'B': 0})\n",
        "\n",
        "X = df.drop(columns=['diagnosis', 'target'])\n",
        "y = df['target']\n",
        "\n",
        "\n",
        "X_train, X_test, y_train, y_test = train_test_split(\n",
        "    X, y,\n",
        "    test_size=0.2,\n",
        "    random_state=42,\n",
        "    stratify=y\n",
        ")\n",
        "\n",
        "\n",
        "imputer = SimpleImputer(strategy='mean')\n",
        "X_train_imp = imputer.fit_transform(X_train)\n",
        "X_test_imp = imputer.transform(X_test)\n",
        "\n",
        "\n",
        "tscaler = StandardScaler()\n",
        "X_train_scaled = tscaler.fit_transform(X_train_imp)\n",
        "X_test_scaled = tscaler.transform(X_test_imp)\n",
        "\n",
        "\n",
        "model = LogisticRegression(solver='liblinear', random_state=42)\n",
        "model.fit(X_train_scaled, y_train)\n",
        "\n",
        "\n",
        "y_prob = model.predict_proba(X_test_scaled)[:, 1]\n",
        "y_pred = (y_prob >= 0.5).astype(int)\n",
        "\n",
        "cm = confusion_matrix(y_test, y_pred)\n",
        "precision = precision_score(y_test, y_pred)\n",
        "recall = recall_score(y_test, y_pred)\n",
        "roc_auc = roc_auc_score(y_test, y_prob)\n",
        "\n",
        "print(\"Confusion Matrix (0.5):\")\n",
        "print(cm)\n",
        "print(f\"Precision: {precision:.3f}\")\n",
        "print(f\"Recall:    {recall:.3f}\")\n",
        "print(f\"ROC-AUC:   {roc_auc:.3f}\\n\")\n",
        "\n",
        "print(\"Classification Report:\")\n",
        "print(classification_report(y_test, y_pred, target_names=['Benign', 'Malignant']))\n",
        "\n",
        "\n",
        "fpr, tpr, thresholds = roc_curve(y_test, y_prob)\n",
        "plt.figure()\n",
        "plt.plot(fpr, tpr, label=f'AUC = {roc_auc:.3f}')\n",
        "plt.plot([0, 1], [0, 1], linestyle='--')\n",
        "plt.xlabel('False Positive Rate')\n",
        "plt.ylabel('True Positive Rate')\n",
        "plt.title('ROC Curve')\n",
        "plt.legend()\n",
        "plt.show()\n",
        "\n",
        "thresholds = [0.2, 0.5, 0.8]\n",
        "print(\"Threshold Tuning Results:\")\n",
        "for thr in thresholds:\n",
        "    preds = (y_prob >= thr).astype(int)\n",
        "    p = precision_score(y_test, preds)\n",
        "    r = recall_score(y_test, preds)\n",
        "    cm_thr = confusion_matrix(y_test, preds)\n",
        "    print(f\"\\nThreshold = {thr}\")\n",
        "    print(f\" Precision: {p:.3f}, Recall: {r:.3f}\")\n",
        "    print(\" Confusion Matrix:\")\n",
        "    print(cm_thr)\n"
      ]
    }
  ]
}